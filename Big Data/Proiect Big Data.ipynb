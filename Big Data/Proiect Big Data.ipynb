{
  "nbformat": 4,
  "nbformat_minor": 0,
  "metadata": {
    "colab": {
      "provenance": [],
      "collapsed_sections": []
    },
    "kernelspec": {
      "name": "python3",
      "display_name": "Python 3"
    },
    "language_info": {
      "name": "python"
    }
  },
  "cells": [
    {
      "cell_type": "markdown",
      "source": [
        "# Setul de date folosit:\n",
        "---\n",
        "Setul de date folosit provine de la programul SEER din 2017 si contine date despre paciente suferind de cancer mamar. Acesta contine 4024 de inregistrari si 16 coloane cu informatii precum varsta, rasa, dimensiunea tumorii, numarul de luni supravietuite, etc. \n",
        "\n",
        "Au fost excluse din acest set datele pacientilor cu dimensiune necunoscuta a tumorii sau cu durata de supravietuire mai mica de o luna.\n",
        "\n",
        "https://www.kaggle.com/datasets/reihanenamdari/breast-cancer\n"
      ],
      "metadata": {
        "id": "oXuAU61fTiba"
      }
    },
    {
      "cell_type": "markdown",
      "source": [
        "# Obiective:\n",
        "\n",
        "---\n",
        "1. Avand la dispozitie toate datele unei paciente dorim sa realizam predictii asupra statusului acesteia. \n",
        "\n",
        "2. Presupunem situatia in care o pacienta a trecut prin etapele unei investigatii legate de cancerul la san si a facut mai multe analize in acest sens. Pornind de la datele obtinute in urma acestora, dorim să obtinem predicții pentru dimensiunea tumorii, cu scopul de a oferi atat doctorului cat si pacientei un diagnostic  orientativ pana la realizarea unei investigatii mai amanuntite."
      ],
      "metadata": {
        "id": "SDsbL0lSNQth"
      }
    },
    {
      "cell_type": "code",
      "source": [
        "!pip install pyspark"
      ],
      "metadata": {
        "colab": {
          "base_uri": "https://localhost:8080/"
        },
        "id": "Uwm3TGiRn1vt",
        "outputId": "a95d6c8d-7bb4-4f06-f8e2-1ac32faf31dd"
      },
      "execution_count": 978,
      "outputs": [
        {
          "output_type": "stream",
          "name": "stdout",
          "text": [
            "Looking in indexes: https://pypi.org/simple, https://us-python.pkg.dev/colab-wheels/public/simple/\n",
            "Requirement already satisfied: pyspark in /usr/local/lib/python3.7/dist-packages (3.3.0)\n",
            "Requirement already satisfied: py4j==0.10.9.5 in /usr/local/lib/python3.7/dist-packages (from pyspark) (0.10.9.5)\n"
          ]
        }
      ]
    },
    {
      "cell_type": "markdown",
      "source": [
        "Importarea librariilor si a functiilor necesare"
      ],
      "metadata": {
        "id": "fNAqSqd_TrTE"
      }
    },
    {
      "cell_type": "code",
      "execution_count": 979,
      "metadata": {
        "id": "1vOd32Agnqks"
      },
      "outputs": [],
      "source": [
        "from pyspark.sql import SparkSession\n",
        "\n",
        "from pyspark.sql.functions import date_format\n",
        "from pyspark.sql.functions import when\n",
        "from pyspark.sql.functions import monotonically_increasing_id \n",
        "from pyspark.sql.functions import col\n",
        "\n",
        "from pyspark.ml.feature import (VectorAssembler,VectorIndexer,\n",
        "                                OneHotEncoder,StringIndexer)\n",
        "from pyspark.ml import Pipeline\n",
        "from pyspark.ml.feature import RobustScaler\n",
        "from pyspark.ml.feature import IndexToString\n",
        "from pyspark.ml.regression import LinearRegression\n",
        "from pyspark.ml.classification import RandomForestClassifier\n",
        "from pyspark.ml.evaluation import BinaryClassificationEvaluator\n",
        "from pyspark.ml.evaluation import MulticlassClassificationEvaluator"
      ]
    },
    {
      "cell_type": "markdown",
      "source": [
        "Crearea unei sesiuni Spark"
      ],
      "metadata": {
        "id": "o_YuJEfrTwf-"
      }
    },
    {
      "cell_type": "code",
      "source": [
        "spark = SparkSession.builder.appName('proiect_bigdata').getOrCreate()"
      ],
      "metadata": {
        "id": "UAYoETt0oA_F"
      },
      "execution_count": 980,
      "outputs": []
    },
    {
      "cell_type": "markdown",
      "source": [
        "Citirea datelor din fisierul CSV si afisarea schemei datelor"
      ],
      "metadata": {
        "id": "TvDY2jIaTzHy"
      }
    },
    {
      "cell_type": "code",
      "source": [
        "data_folder = \"/content/drive/MyDrive/Proiecte FMI/BIG Data/\"\n",
        "data = spark.read.csv(data_folder + 'Breast_Cancer.csv',inferSchema=True,header=True)\n",
        "\n",
        "data.printSchema()"
      ],
      "metadata": {
        "id": "RBwYFLVw5W72",
        "colab": {
          "base_uri": "https://localhost:8080/"
        },
        "outputId": "6cc8704e-d6ba-4d19-f725-16524f857da8"
      },
      "execution_count": 981,
      "outputs": [
        {
          "output_type": "stream",
          "name": "stdout",
          "text": [
            "root\n",
            " |-- Age: integer (nullable = true)\n",
            " |-- Race: string (nullable = true)\n",
            " |-- Marital Status: string (nullable = true)\n",
            " |-- T Stage : timestamp (nullable = true)\n",
            " |-- N Stage: string (nullable = true)\n",
            " |-- 6th Stage: string (nullable = true)\n",
            " |-- differentiate: string (nullable = true)\n",
            " |-- Grade: string (nullable = true)\n",
            " |-- A Stage: string (nullable = true)\n",
            " |-- Tumor Size: integer (nullable = true)\n",
            " |-- Estrogen Status: string (nullable = true)\n",
            " |-- Progesterone Status: string (nullable = true)\n",
            " |-- Regional Node Examined: integer (nullable = true)\n",
            " |-- Reginol Node Positive: integer (nullable = true)\n",
            " |-- Survival Months: integer (nullable = true)\n",
            " |-- Status: string (nullable = true)\n",
            "\n"
          ]
        }
      ]
    },
    {
      "cell_type": "markdown",
      "source": [
        "Se poate observa ca pentru coloana \"T Stage \" datorita formatului fisierului la citirea acestuia informatiile au fost converite in timestamp-uri, asa ca le vom converti inapoi la formatul corect inainte de a vizualiza datele."
      ],
      "metadata": {
        "id": "fTcVM9V7T7-o"
      }
    },
    {
      "cell_type": "code",
      "source": [
        "# Preluam ora din timestamp, aceasta reprezinta de fapt cifra stadiului T\n",
        "# De asemenea redenumim coloana T Stage pentru a elimina spatiul de la final\n",
        "data = data.withColumn(\"T Stage \", date_format('T Stage ', \"hh\")).withColumnRenamed(\"T Stage \",\"TStage\")\n",
        "\n",
        "# In functie de ora extrasa vom converti datele inapoi in formatului original din fisierul CSV\n",
        "data = data.withColumn(\"TStage\", when(data.TStage == \"01\",\"T1\").when(data.TStage == \"02\",\"T2\").when(data.TStage == \"03\",\"T3\").when(data.TStage == \"04\",\"T4\"))   "
      ],
      "metadata": {
        "id": "kokSR7p9dMaM"
      },
      "execution_count": 982,
      "outputs": []
    },
    {
      "cell_type": "markdown",
      "source": [
        "Acum putem vizualiza datele. Vom afisa cateva linii din DataFrame si statistici despre setul de date."
      ],
      "metadata": {
        "id": "2t4avLaCWB2b"
      }
    },
    {
      "cell_type": "code",
      "source": [
        "data.show()\n",
        "\n",
        "data.describe().show()"
      ],
      "metadata": {
        "colab": {
          "base_uri": "https://localhost:8080/"
        },
        "id": "jkOKFoI66Db5",
        "outputId": "28bc30ff-1323-4de7-a3df-cbbfdba4ed82"
      },
      "execution_count": 983,
      "outputs": [
        {
          "output_type": "stream",
          "name": "stdout",
          "text": [
            "+---+-----+--------------+------+-------+---------+--------------------+-----+--------+----------+---------------+-------------------+----------------------+---------------------+---------------+------+\n",
            "|Age| Race|Marital Status|TStage|N Stage|6th Stage|       differentiate|Grade| A Stage|Tumor Size|Estrogen Status|Progesterone Status|Regional Node Examined|Reginol Node Positive|Survival Months|Status|\n",
            "+---+-----+--------------+------+-------+---------+--------------------+-----+--------+----------+---------------+-------------------+----------------------+---------------------+---------------+------+\n",
            "| 68|White|       Married|    T1|     N1|      IIA|Poorly differenti...|    3|Regional|         4|       Positive|           Positive|                    24|                    1|             60| Alive|\n",
            "| 50|White|       Married|    T2|     N2|     IIIA|Moderately differ...|    2|Regional|        35|       Positive|           Positive|                    14|                    5|             62| Alive|\n",
            "| 58|White|      Divorced|    T3|     N3|     IIIC|Moderately differ...|    2|Regional|        63|       Positive|           Positive|                    14|                    7|             75| Alive|\n",
            "| 58|White|       Married|    T1|     N1|      IIA|Poorly differenti...|    3|Regional|        18|       Positive|           Positive|                     2|                    1|             84| Alive|\n",
            "| 47|White|       Married|    T2|     N1|      IIB|Poorly differenti...|    3|Regional|        41|       Positive|           Positive|                     3|                    1|             50| Alive|\n",
            "| 51|White|       Single |    T1|     N1|      IIA|Moderately differ...|    2|Regional|        20|       Positive|           Positive|                    18|                    2|             89| Alive|\n",
            "| 51|White|       Married|    T1|     N1|      IIA| Well differentiated|    1|Regional|         8|       Positive|           Positive|                    11|                    1|             54| Alive|\n",
            "| 40|White|       Married|    T2|     N1|      IIB|Moderately differ...|    2|Regional|        30|       Positive|           Positive|                     9|                    1|             14|  Dead|\n",
            "| 40|White|      Divorced|    T4|     N3|     IIIC|Poorly differenti...|    3|Regional|       103|       Positive|           Positive|                    20|                   18|             70| Alive|\n",
            "| 69|White|       Married|    T4|     N3|     IIIC| Well differentiated|    1| Distant|        32|       Positive|           Positive|                    21|                   12|             92| Alive|\n",
            "| 68|White|       Widowed|    T1|     N1|      IIA|Moderately differ...|    2|Regional|        13|       Positive|           Positive|                     9|                    1|             64|  Dead|\n",
            "| 46|White|       Married|    T3|     N1|     IIIA|Poorly differenti...|    3|Regional|        59|       Negative|           Negative|                    11|                    3|             92| Alive|\n",
            "| 65|White|       Married|    T2|     N1|      IIB|Poorly differenti...|    3|Regional|        35|       Positive|           Positive|                    13|                    3|             56| Alive|\n",
            "| 48|White|       Married|    T1|     N2|     IIIA|Poorly differenti...|    3|Regional|        15|       Positive|           Positive|                    23|                    7|             38| Alive|\n",
            "| 62|White|      Divorced|    T2|     N3|     IIIC|Moderately differ...|    2|Regional|        35|       Positive|           Positive|                    16|                   14|             64| Alive|\n",
            "| 61|White|       Married|    T1|     N1|      IIA|Moderately differ...|    2|Regional|        19|       Positive|           Positive|                    20|                    1|             49| Alive|\n",
            "| 56|White|       Single |    T2|     N1|      IIB|Moderately differ...|    2|Regional|        46|       Positive|           Positive|                     1|                    1|            105| Alive|\n",
            "| 43|White|       Married|    T2|     N1|      IIB|Moderately differ...|    2|Regional|        24|       Positive|           Positive|                    22|                    1|             62| Alive|\n",
            "| 48|Black|      Divorced|    T2|     N1|      IIB|Moderately differ...|    2|Regional|        25|       Positive|           Positive|                    16|                    1|            107| Alive|\n",
            "| 60|White|      Divorced|    T2|     N1|      IIB|Moderately differ...|    2|Regional|        29|       Negative|           Negative|                    20|                    1|             77| Alive|\n",
            "+---+-----+--------------+------+-------+---------+--------------------+-----+--------+----------+---------------+-------------------+----------------------+---------------------+---------------+------+\n",
            "only showing top 20 rows\n",
            "\n",
            "+-------+-----------------+-----+--------------+------+-------+---------+--------------------+--------------------+--------+------------------+---------------+-------------------+----------------------+---------------------+------------------+------+\n",
            "|summary|              Age| Race|Marital Status|TStage|N Stage|6th Stage|       differentiate|               Grade| A Stage|        Tumor Size|Estrogen Status|Progesterone Status|Regional Node Examined|Reginol Node Positive|   Survival Months|Status|\n",
            "+-------+-----------------+-----+--------------+------+-------+---------+--------------------+--------------------+--------+------------------+---------------+-------------------+----------------------+---------------------+------------------+------+\n",
            "|  count|             4024| 4024|          4024|  4024|   4024|     4024|                4024|                4024|    4024|              4024|           4024|               4024|                  4024|                 4024|              4024|  4024|\n",
            "|   mean|53.97216699801193| null|          null|  null|   null|     null|                null|  2.1418227215980026|    null| 30.47365805168986|           null|               null|     14.35710735586481|    4.158051689860835| 71.29796222664015|  null|\n",
            "| stddev|8.963134409895774| null|          null|  null|   null|     null|                null|  0.6268717614694068|    null|21.119696090412834|           null|               null|     8.099674806654754|    5.109331121622241|22.921429541203235|  null|\n",
            "|    min|               30|Black|      Divorced|    T1|     N1|      IIA|Moderately differ...| anaplastic; Grad...| Distant|                 1|       Negative|           Negative|                     1|                    1|                 1| Alive|\n",
            "|    max|               69|White|       Widowed|    T4|     N3|     IIIC| Well differentiated|                   3|Regional|               140|       Positive|           Positive|                    61|                   46|               107|  Dead|\n",
            "+-------+-----------------+-----+--------------+------+-------+---------+--------------------+--------------------+--------+------------------+---------------+-------------------+----------------------+---------------------+------------------+------+\n",
            "\n"
          ]
        }
      ]
    },
    {
      "cell_type": "markdown",
      "source": [
        "In continuare, pregatirea datelor difera pentru fiecare dintre probleme. Din acest motiv vom crea o copii ale DataFrame-ului pe care le vom prelucra in functie de nevoi."
      ],
      "metadata": {
        "id": "lddbOBgzWhbe"
      }
    },
    {
      "cell_type": "code",
      "source": [
        "data_task1 = data.select(\"*\")\n",
        "\n",
        "data_task2 = data.select(\"*\")"
      ],
      "metadata": {
        "id": "3zFGy0j5W2s_"
      },
      "execution_count": 984,
      "outputs": []
    },
    {
      "cell_type": "markdown",
      "source": [
        "# **Problema 1**\n",
        "\n"
      ],
      "metadata": {
        "id": "OnK49C_WYgEc"
      }
    },
    {
      "cell_type": "markdown",
      "source": [
        "Avand la dispozitie toate datele persoanei dorim sa facem predictii asupra coloanei \"Status\" pentru aceasta. Aceasta este o problema de clasificare si ne vom folosi de clasificatorul RandomForest."
      ],
      "metadata": {
        "id": "dHp_0AVkly6x"
      }
    },
    {
      "cell_type": "markdown",
      "source": [
        "Deoarece dorim sa realizam predictii asupra coloanei \"Status\" vom vizualiza pentru inceput cum sunt impartite datele in aceasta."
      ],
      "metadata": {
        "id": "yrzoOtgxd10W"
      }
    },
    {
      "cell_type": "code",
      "source": [
        " data_task1.groupBy(\"Status\").count().show()"
      ],
      "metadata": {
        "colab": {
          "base_uri": "https://localhost:8080/"
        },
        "id": "uajNODsLFYlJ",
        "outputId": "3c5b955a-99c5-47b7-97ac-8051ed5df7bb"
      },
      "execution_count": 985,
      "outputs": [
        {
          "output_type": "stream",
          "name": "stdout",
          "text": [
            "+------+-----+\n",
            "|Status|count|\n",
            "+------+-----+\n",
            "|  Dead|  616|\n",
            "| Alive| 3408|\n",
            "+------+-----+\n",
            "\n"
          ]
        }
      ]
    },
    {
      "cell_type": "markdown",
      "source": [
        "Observam ca in setul de date sunt mult mai multe persoane cu status \"Alive\" decat \"Dead\" (3408 vs 616) asa ca vom filtra datele pentru a avea o distributie mai balansata a acestora.\n",
        "\n",
        "In acest sens vom ordona datele in functie de coloana Status si vom adauga o coloana \"id\" pe care o vom folosi pentru a elimina date de la persoane cu Status \"Alive\"."
      ],
      "metadata": {
        "id": "L7BUIIxMXiwr"
      }
    },
    {
      "cell_type": "code",
      "source": [
        "data_task1 = data_task1.select(\"*\").orderBy(\"Status\").withColumn(\"id\", monotonically_increasing_id())\n",
        "\n",
        "data_task1 = data_task1.filter(data_task1.id > 2792)\n",
        "\n",
        "data_task1 = data_task1.drop(\"id\")"
      ],
      "metadata": {
        "id": "Wn5nJQOOv8WS"
      },
      "execution_count": 986,
      "outputs": []
    },
    {
      "cell_type": "code",
      "source": [
        "# Selectam coloanele si eliminam randurile ce contin valori null, daca exista\n",
        "task1_final_data = data_task1.select(['*']).na.drop()\n",
        "\n",
        "task1_final_data.columns"
      ],
      "metadata": {
        "colab": {
          "base_uri": "https://localhost:8080/"
        },
        "id": "TvWmEfsFagB_",
        "outputId": "826dcb93-2b19-4943-fac4-de45a2780223"
      },
      "execution_count": 987,
      "outputs": [
        {
          "output_type": "execute_result",
          "data": {
            "text/plain": [
              "['Age',\n",
              " 'Race',\n",
              " 'Marital Status',\n",
              " 'TStage',\n",
              " 'N Stage',\n",
              " '6th Stage',\n",
              " 'differentiate',\n",
              " 'Grade',\n",
              " 'A Stage',\n",
              " 'Tumor Size',\n",
              " 'Estrogen Status',\n",
              " 'Progesterone Status',\n",
              " 'Regional Node Examined',\n",
              " 'Reginol Node Positive',\n",
              " 'Survival Months',\n",
              " 'Status']"
            ]
          },
          "metadata": {},
          "execution_count": 987
        }
      ]
    },
    {
      "cell_type": "markdown",
      "source": [
        "Pentru a trata coloanele cu informatie de tip String vom folosi StringIndexer si OneHotEncoder pentru a le transforma intr-un format categorial cu care putem lucra in continuare."
      ],
      "metadata": {
        "id": "nqZ0xZvNb_38"
      }
    },
    {
      "cell_type": "code",
      "source": [
        "race_indexer = StringIndexer(inputCol='Race',outputCol='RaceIndex')\n",
        "race_encoder = OneHotEncoder(inputCol='RaceIndex',outputCol='RaceVec')\n",
        "\n",
        "mstatus_indexer = StringIndexer(inputCol='Marital Status',outputCol='MStatusIndex')\n",
        "mstatus_encoder = OneHotEncoder(inputCol='MStatusIndex',outputCol='MStatusVec')\n",
        "\n",
        "tstage_indexer = StringIndexer(inputCol='TStage',outputCol='TStageIndex')\n",
        "tstage_encoder = OneHotEncoder(inputCol='TStageIndex',outputCol='TStageVec')\n",
        "\n",
        "nstage_indexer = StringIndexer(inputCol='N Stage',outputCol='NStageIndex')\n",
        "nstage_encoder = OneHotEncoder(inputCol='NStageIndex',outputCol='NStageVec')\n",
        "\n",
        "thstage_indexer = StringIndexer(inputCol='6th Stage',outputCol='6thStageIndex')\n",
        "thstage_encoder = OneHotEncoder(inputCol='6thStageIndex',outputCol='6thStageVec')\n",
        "\n",
        "differentiate_indexer = StringIndexer(inputCol='differentiate',outputCol='differentiateIndex')\n",
        "differentiate_encoder = OneHotEncoder(inputCol='differentiateIndex',outputCol='differentiateVec')\n",
        "\n",
        "grade_indexer = StringIndexer(inputCol='Grade',outputCol='GradeIndex')\n",
        "grade_encoder = OneHotEncoder(inputCol='GradeIndex',outputCol='GradeVec')\n",
        "\n",
        "astage_indexer = StringIndexer(inputCol='A Stage',outputCol='AStageIndex')\n",
        "astage_encoder = OneHotEncoder(inputCol='AStageIndex',outputCol='AStageVec')\n",
        "\n",
        "estrogen_indexer = StringIndexer(inputCol='Estrogen Status',outputCol='EstrogenIndex')\n",
        "estrogen_encoder = OneHotEncoder(inputCol='EstrogenIndex',outputCol='EstrogenVec')\n",
        "\n",
        "progesterone_indexer = StringIndexer(inputCol='Progesterone Status',outputCol='ProgesteroneIndex')\n",
        "progesterone_encoder = OneHotEncoder(inputCol='ProgesteroneIndex',outputCol='ProgesteroneVec')\n",
        "\n",
        "status_indexer = StringIndexer(inputCol='Status',outputCol='StatusIndex')\n",
        "status_encoder = OneHotEncoder(inputCol='StatusIndex',outputCol='StatusVec')"
      ],
      "metadata": {
        "id": "jjxQ3mSmgpVj"
      },
      "execution_count": 988,
      "outputs": []
    },
    {
      "cell_type": "markdown",
      "source": [
        "Pentru a asambla coloanele sub forma unui singur vector coloana vom folosi VectorAssembler. Vedem mai jos assembler-ele folosite pentru ambele probleme."
      ],
      "metadata": {
        "id": "FG1lnstjc9NL"
      }
    },
    {
      "cell_type": "code",
      "source": [
        "# Combinam coloanele coloanele in vectorul \"features\"\n",
        "assembler_rf = VectorAssembler(inputCols=['Age', 'MStatusVec', 'RaceVec', 'TStageVec',  'NStageVec',  '6thStageVec',\n",
        "                                                'differentiateVec',  'GradeVec',  'AStageVec',  'Tumor Size', 'EstrogenVec',\n",
        "                                                'ProgesteroneVec', 'Regional Node Examined', 'Reginol Node Positive', 'Survival Months'], outputCol = \"features\")\n",
        "\n",
        "assembler_linear = VectorAssembler(inputCols=['Age', 'MStatusVec', 'RaceVec', 'NStageVec',  '6thStageVec',\n",
        "                                              'differentiateVec',  'GradeVec',  'AStageVec', 'EstrogenVec','ProgesteroneVec',\n",
        "                                              'Regional Node Examined', 'Reginol Node Positive','Survival Months',], outputCol = \"features\")"
      ],
      "metadata": {
        "id": "TuOl-zjSxe5r"
      },
      "execution_count": 989,
      "outputs": []
    },
    {
      "cell_type": "markdown",
      "source": [
        "# **Clasificatorul RandomForest**"
      ],
      "metadata": {
        "id": "hgnXqfIAirRN"
      }
    },
    {
      "cell_type": "markdown",
      "source": [
        "Putem acum sa inlantuim etapele intr-un pipeline si sa antrenam modelul."
      ],
      "metadata": {
        "id": "dIACeJCcfEns"
      }
    },
    {
      "cell_type": "code",
      "source": [
        "random_forest = RandomForestClassifier(labelCol=\"StatusIndex\", featuresCol=\"features\", numTrees=500)"
      ],
      "metadata": {
        "id": "p6JqNjsvkm-O"
      },
      "execution_count": 990,
      "outputs": []
    },
    {
      "cell_type": "code",
      "source": [
        "#Inlantuirea etapelor in cadrul unui Pipeline\n",
        "pipeline = Pipeline(stages = [race_indexer,race_encoder,mstatus_indexer,mstatus_encoder,tstage_indexer,tstage_encoder,nstage_indexer,nstage_encoder,thstage_indexer,thstage_encoder,differentiate_indexer,differentiate_encoder, grade_indexer,grade_encoder,astage_indexer,astage_encoder,estrogen_indexer,estrogen_encoder,progesterone_indexer,progesterone_encoder,status_indexer,status_encoder,assembler_rf,random_forest])"
      ],
      "metadata": {
        "id": "Ph5qwTKhAH-v"
      },
      "execution_count": 991,
      "outputs": []
    },
    {
      "cell_type": "code",
      "source": [
        "# Impartim datele in seturi de antrenare si test\n",
        "train_bc_data, test_bc_data = task1_final_data.randomSplit([0.7,.3])"
      ],
      "metadata": {
        "id": "PKOGR0z6A5A-"
      },
      "execution_count": 992,
      "outputs": []
    },
    {
      "cell_type": "code",
      "source": [
        "#Antrenare pipeline\n",
        "fit_model = pipeline.fit(train_bc_data)"
      ],
      "metadata": {
        "id": "KDxa1UISA_u7"
      },
      "execution_count": 993,
      "outputs": []
    },
    {
      "cell_type": "code",
      "source": [
        "# Aplicam modelul pe datele de test\n",
        "results = fit_model.transform(test_bc_data)"
      ],
      "metadata": {
        "id": "AamKh7ZGBIZh"
      },
      "execution_count": 994,
      "outputs": []
    },
    {
      "cell_type": "markdown",
      "source": [
        "Afisam predictiile si probabilitatile pentru acestea."
      ],
      "metadata": {
        "id": "LrlVfBqjfkBM"
      }
    },
    {
      "cell_type": "code",
      "source": [
        "results.select('StatusIndex','prediction', 'probability').show(20,truncate = False)"
      ],
      "metadata": {
        "colab": {
          "base_uri": "https://localhost:8080/"
        },
        "id": "XqakvVolBJ_d",
        "outputId": "dc3c0162-57a6-47b3-bbf0-b5b5cfd87152"
      },
      "execution_count": 995,
      "outputs": [
        {
          "output_type": "stream",
          "name": "stdout",
          "text": [
            "+-----------+----------+----------------------------------------+\n",
            "|StatusIndex|prediction|probability                             |\n",
            "+-----------+----------+----------------------------------------+\n",
            "|1.0        |1.0       |[0.11838214809893402,0.881617851901066] |\n",
            "|1.0        |0.0       |[0.7384019559627187,0.26159804403728126]|\n",
            "|0.0        |0.0       |[0.6203148223811359,0.37968517761886417]|\n",
            "|1.0        |1.0       |[0.18460140602302313,0.8153985939769769]|\n",
            "|1.0        |1.0       |[0.12866571895507775,0.8713342810449223]|\n",
            "|1.0        |1.0       |[0.1421930035104205,0.8578069964895795] |\n",
            "|1.0        |1.0       |[0.06849299663387048,0.9315070033661296]|\n",
            "|1.0        |0.0       |[0.5888784604945302,0.41112153950546987]|\n",
            "|0.0        |0.0       |[0.6591439097475112,0.34085609025248875]|\n",
            "|1.0        |0.0       |[0.6164489626172137,0.38355103738278623]|\n",
            "|0.0        |1.0       |[0.3772467077103851,0.622753292289615]  |\n",
            "|1.0        |0.0       |[0.674480467916954,0.3255195320830459]  |\n",
            "|0.0        |0.0       |[0.636952336218,0.36304766378200004]    |\n",
            "|1.0        |0.0       |[0.7517195192398277,0.2482804807601723] |\n",
            "|0.0        |0.0       |[0.6684557748053025,0.3315442251946975] |\n",
            "|1.0        |1.0       |[0.1909802526404621,0.809019747359538]  |\n",
            "|1.0        |1.0       |[0.16862108121710798,0.8313789187828919]|\n",
            "|0.0        |0.0       |[0.7650864213930552,0.2349135786069449] |\n",
            "|0.0        |0.0       |[0.7401146809854064,0.2598853190145935] |\n",
            "|1.0        |1.0       |[0.4560358543915519,0.5439641456084481] |\n",
            "+-----------+----------+----------------------------------------+\n",
            "only showing top 20 rows\n",
            "\n"
          ]
        }
      ]
    },
    {
      "cell_type": "markdown",
      "source": [
        "Evaluam mai jos modelul:"
      ],
      "metadata": {
        "id": "sI01Y9nSfuJE"
      }
    },
    {
      "cell_type": "code",
      "source": [
        "evaluator = MulticlassClassificationEvaluator(\n",
        "    labelCol=\"StatusIndex\", predictionCol=\"prediction\", metricName=\"accuracy\")\n",
        "accuracy = evaluator.evaluate(results)\n",
        "print(\"Acuratete = %g\" % (accuracy))"
      ],
      "metadata": {
        "colab": {
          "base_uri": "https://localhost:8080/"
        },
        "id": "YBzrtIh0kxJc",
        "outputId": "fb2f038a-87ab-4f76-8e86-dedd4149edb7"
      },
      "execution_count": 996,
      "outputs": [
        {
          "output_type": "stream",
          "name": "stdout",
          "text": [
            "Acuratete = 0.78125\n"
          ]
        }
      ]
    },
    {
      "cell_type": "markdown",
      "source": [
        "# **Problema 2**\n",
        "\n",
        "Dorim să construim un model de regresie care sa realizeze predicții pentru dimensiunea tumorii folosind informatiile pacientului obtinute de la diferite analize. Deoarece dimensiunea tumorilor la persoanele in ultimul stadiu poate varia foarte mult, ne vom limita la a face predictii pentru persoane in primele 3 stadii."
      ],
      "metadata": {
        "id": "GZiIM-sJi3fc"
      }
    },
    {
      "cell_type": "markdown",
      "source": [
        "Deoarece informatiile pe care dorim sa le obtinem vizeaza doar persoanele in viata vom filtra datele pentru a obtine rezultate mai bune pentru acestea."
      ],
      "metadata": {
        "id": "1ayC3HJzYoBx"
      }
    },
    {
      "cell_type": "code",
      "source": [
        "data_task2 = data_task2.filter(data_task2.Status == \"Alive\")"
      ],
      "metadata": {
        "id": "vJdjJQtvXV7n"
      },
      "execution_count": 997,
      "outputs": []
    },
    {
      "cell_type": "markdown",
      "source": [
        "Pentru aceasta problema ne vom folosi de toate coloanele mai putin de \"T Stage\" deoarece aceasta depinde de marimea tumorii si in acest caz dorim ca pe viitor sa facem predictii fara sa avem nevoie de aceasta informatie."
      ],
      "metadata": {
        "id": "AAtDdg5naF5q"
      }
    },
    {
      "cell_type": "code",
      "source": [
        "# Selectam coloanele si eliminam randurile ce contin valori null, daca exista\n",
        "task2_final_data = data_task2.select(['*']).na.drop()\n",
        "                              \n",
        "task2_final_data.columns"
      ],
      "metadata": {
        "colab": {
          "base_uri": "https://localhost:8080/"
        },
        "id": "cmYnb1RAZgvN",
        "outputId": "a3eed341-bc9a-44d2-b659-d9e06103478b"
      },
      "execution_count": 998,
      "outputs": [
        {
          "output_type": "execute_result",
          "data": {
            "text/plain": [
              "['Age',\n",
              " 'Race',\n",
              " 'Marital Status',\n",
              " 'TStage',\n",
              " 'N Stage',\n",
              " '6th Stage',\n",
              " 'differentiate',\n",
              " 'Grade',\n",
              " 'A Stage',\n",
              " 'Tumor Size',\n",
              " 'Estrogen Status',\n",
              " 'Progesterone Status',\n",
              " 'Regional Node Examined',\n",
              " 'Reginol Node Positive',\n",
              " 'Survival Months',\n",
              " 'Status']"
            ]
          },
          "metadata": {},
          "execution_count": 998
        }
      ]
    },
    {
      "cell_type": "markdown",
      "source": [
        "Filtram datele pentru a pastra doar datele persoanelor din primele 3 stadii si afisam numarul acestora."
      ],
      "metadata": {
        "id": "dawa12BZi_gu"
      }
    },
    {
      "cell_type": "code",
      "source": [
        "task2_final_data = task2_final_data.filter(col(\"TStage\") <= \"T3\" )\n",
        "\n",
        "task2_final_data.groupBy(\"TStage\").count().orderBy(\"TStage\").show()"
      ],
      "metadata": {
        "id": "EYLSwIMJPqJi",
        "colab": {
          "base_uri": "https://localhost:8080/"
        },
        "outputId": "0916dbed-94dc-402d-8cf3-0bbc0b4a3faf"
      },
      "execution_count": 999,
      "outputs": [
        {
          "output_type": "stream",
          "name": "stdout",
          "text": [
            "+------+-----+\n",
            "|TStage|count|\n",
            "+------+-----+\n",
            "|    T1| 1446|\n",
            "|    T2| 1483|\n",
            "|    T3|  417|\n",
            "+------+-----+\n",
            "\n"
          ]
        }
      ]
    },
    {
      "cell_type": "markdown",
      "source": [
        "Inlantuim intr-un pipeline etapele de StringIndexer si OneHotEncoder"
      ],
      "metadata": {
        "id": "5IlxgM7PgwjX"
      }
    },
    {
      "cell_type": "code",
      "source": [
        "pipeline_linear = Pipeline(stages = [race_indexer,race_encoder,mstatus_indexer,mstatus_encoder,nstage_indexer,nstage_encoder,\n",
        "                                     thstage_indexer,thstage_encoder,differentiate_indexer,differentiate_encoder, grade_indexer,\n",
        "                                     grade_encoder,astage_indexer,astage_encoder,estrogen_indexer,estrogen_encoder,progesterone_indexer,\n",
        "                                     progesterone_encoder])"
      ],
      "metadata": {
        "id": "v01gqTG9rIeA"
      },
      "execution_count": 1000,
      "outputs": []
    },
    {
      "cell_type": "markdown",
      "source": [
        "Aplicam pe datele noastre"
      ],
      "metadata": {
        "id": "GIHxVqJyg4zH"
      }
    },
    {
      "cell_type": "code",
      "source": [
        "output = pipeline_linear.fit(task2_final_data)"
      ],
      "metadata": {
        "id": "GZqMls2ZBwiP"
      },
      "execution_count": 1001,
      "outputs": []
    },
    {
      "cell_type": "markdown",
      "source": [
        "Scalam datele folosind RobustScaler"
      ],
      "metadata": {
        "id": "PRWQ2lL-hLO3"
      }
    },
    {
      "cell_type": "code",
      "source": [
        "data_transformed = output.transform(task2_final_data)\n",
        "data_transformed = assembler_linear.transform(data_transformed)\n",
        "\n",
        "scaler = RobustScaler(inputCol=\"features\", outputCol=\"scaledFeatures\")\n",
        "\n",
        "scalerModel = scaler.fit(data_transformed)\n",
        "\n",
        "data_transformed = scalerModel.transform(data_transformed)\n",
        "\n",
        "final_data = data_transformed.select(\"scaledFeatures\", \"Tumor Size\")"
      ],
      "metadata": {
        "id": "tVCLSOfYI0Y8"
      },
      "execution_count": 1020,
      "outputs": []
    },
    {
      "cell_type": "markdown",
      "source": [
        "Impartim datele in seturi de antrenare si test"
      ],
      "metadata": {
        "id": "dWwP9XtPjKAm"
      }
    },
    {
      "cell_type": "code",
      "source": [
        "train_bc_data2, test_bc_data2 = final_data.randomSplit([0.7,.3])\n",
        "\n",
        "# Afisam sumarul setului de antrenare\n",
        "train_bc_data2.describe().show()"
      ],
      "metadata": {
        "id": "Hjzg9SQRnBAz",
        "colab": {
          "base_uri": "https://localhost:8080/"
        },
        "outputId": "0ae76cce-a01f-4c7c-d600-70a818f2cf76"
      },
      "execution_count": 1021,
      "outputs": [
        {
          "output_type": "stream",
          "name": "stdout",
          "text": [
            "+-------+------------------+\n",
            "|summary|        Tumor Size|\n",
            "+-------+------------------+\n",
            "|  count|              2404|\n",
            "|   mean|28.880199667221298|\n",
            "| stddev|19.798690330084543|\n",
            "|    min|                 1|\n",
            "|    max|               140|\n",
            "+-------+------------------+\n",
            "\n"
          ]
        }
      ]
    },
    {
      "cell_type": "markdown",
      "source": [
        "Putem trece acum la antrenarea modelului"
      ],
      "metadata": {
        "id": "y8E1I88RjVgJ"
      }
    },
    {
      "cell_type": "code",
      "source": [
        "lr = LinearRegression(featuresCol='scaledFeatures', labelCol='Tumor Size')\n",
        "\n",
        "lrModel = lr.fit(train_bc_data2)"
      ],
      "metadata": {
        "id": "mdSOlycaFZwO"
      },
      "execution_count": 1022,
      "outputs": []
    },
    {
      "cell_type": "markdown",
      "source": [
        "Afisam coeficientii si interceptia pentru model"
      ],
      "metadata": {
        "id": "Kuoau3_Yj2Hr"
      }
    },
    {
      "cell_type": "code",
      "source": [
        "print(\"Coefficients: {} Intercept: {}\".format(lrModel.coefficients,lrModel.intercept))"
      ],
      "metadata": {
        "colab": {
          "base_uri": "https://localhost:8080/"
        },
        "id": "PBmhF4MRFhYJ",
        "outputId": "43599a08-bb02-49a3-91ee-7f9fdf053b3f"
      },
      "execution_count": 1023,
      "outputs": [
        {
          "output_type": "stream",
          "name": "stdout",
          "text": [
            "Coefficients: [-1.127513634826283,-0.33407437265621537,0.0,0.0,0.0,0.0,0.0,32.30706102910916,0.0,-59.8654226773688,-43.331796098970166,-5.875507010570251,0.09981864793812427,0.0,0.0,0.09981864793812427,0.0,0.0,0.0,0.0,0.0,-0.24556125466916928,-0.3860420217465051,0.13044694793098682] Intercept: 46.335964521951446\n"
          ]
        }
      ]
    },
    {
      "cell_type": "markdown",
      "source": [
        "Aplicam modelul pe datele de test si afisam reziduurile"
      ],
      "metadata": {
        "id": "tqcXqwLgjlRM"
      }
    },
    {
      "cell_type": "code",
      "source": [
        "test_results = lrModel.evaluate(test_bc_data2)\n",
        "\n",
        "test_results.residuals.show()"
      ],
      "metadata": {
        "colab": {
          "base_uri": "https://localhost:8080/"
        },
        "id": "erxFRHCMFjzT",
        "outputId": "5ae4371b-3ffc-4b26-d6ac-0015b3abda6d"
      },
      "execution_count": 1024,
      "outputs": [
        {
          "output_type": "stream",
          "name": "stdout",
          "text": [
            "+--------------------+\n",
            "|           residuals|\n",
            "+--------------------+\n",
            "| -0.7917346438351238|\n",
            "| -0.3812551605871164|\n",
            "|  -2.164201221448401|\n",
            "|  -7.462938232918518|\n",
            "|  -8.655430068675194|\n",
            "|-0.41983236645405597|\n",
            "|  0.7955235142509096|\n",
            "|  -6.008027482013755|\n",
            "|-0.26999954642352364|\n",
            "|   2.837332558475545|\n",
            "|   4.067062358507364|\n",
            "| 0.34974569620896645|\n",
            "|-0.17620522974931063|\n",
            "|  2.7887476999387246|\n",
            "|-0.07484736492801503|\n",
            "|   -8.19267041467213|\n",
            "|     4.9339514993984|\n",
            "|  1.8741840251097166|\n",
            "| -3.9697545512592214|\n",
            "|  -2.932883266310416|\n",
            "+--------------------+\n",
            "only showing top 20 rows\n",
            "\n"
          ]
        }
      ]
    },
    {
      "cell_type": "markdown",
      "source": [
        "Aplicam modelul pe datele de test neetichetate"
      ],
      "metadata": {
        "id": "0TN8ourokGWM"
      }
    },
    {
      "cell_type": "code",
      "source": [
        "unlabeled_data=test_bc_data2.select(\"scaledFeatures\")\n",
        "\n",
        "predictions = lrModel.transform(unlabeled_data)\n",
        "\n",
        "predictions.show()"
      ],
      "metadata": {
        "colab": {
          "base_uri": "https://localhost:8080/"
        },
        "id": "qR0Ee7KFFrdw",
        "outputId": "789acf1e-9d28-4e17-f605-06c8b8ecd36c"
      },
      "execution_count": 1025,
      "outputs": [
        {
          "output_type": "stream",
          "name": "stdout",
          "text": [
            "+--------------------+------------------+\n",
            "|      scaledFeatures|        prediction|\n",
            "+--------------------+------------------+\n",
            "|(24,[0,1,5,7,9,12...|15.791734643835124|\n",
            "|(24,[0,1,5,7,9,12...|15.381255160587116|\n",
            "|(24,[0,1,5,7,9,12...|15.164201221448401|\n",
            "|(24,[0,1,5,7,9,12...|15.462938232918518|\n",
            "|(24,[0,1,5,7,9,12...|15.655430068675194|\n",
            "|(24,[0,1,5,7,9,12...|15.419832366454056|\n",
            "|(24,[0,1,5,7,9,12...| 15.20447648574909|\n",
            "|(24,[0,1,5,7,9,12...|15.008027482013755|\n",
            "|(24,[0,1,5,7,9,12...|15.269999546423524|\n",
            "|(24,[0,1,5,7,9,12...|15.162667441524455|\n",
            "|(24,[0,1,5,7,9,12...|14.932937641492636|\n",
            "|(24,[0,1,5,7,9,12...|14.650254303791034|\n",
            "|(24,[0,1,5,7,9,12...| 15.17620522974931|\n",
            "|(24,[0,1,5,7,9,12...|15.211252300061275|\n",
            "|(24,[0,1,5,7,9,12...|15.074847364928015|\n",
            "|(24,[0,1,5,7,9,12...| 15.19267041467213|\n",
            "|(24,[0,1,5,7,9,12...|  15.0660485006016|\n",
            "|(24,[0,1,5,7,9,12...|15.125815974890283|\n",
            "|(24,[0,1,5,7,9,12...|14.969754551259221|\n",
            "|(24,[0,1,5,7,9,12...|14.932883266310416|\n",
            "+--------------------+------------------+\n",
            "only showing top 20 rows\n",
            "\n"
          ]
        }
      ]
    },
    {
      "cell_type": "markdown",
      "source": [
        "In final vom afisa metricele obtinute pentru model:"
      ],
      "metadata": {
        "id": "WxH-3wtRiYeo"
      }
    },
    {
      "cell_type": "code",
      "source": [
        "print(\"RMSE: {}\".format(test_results.rootMeanSquaredError))\n",
        "print(\"MSE: {}\".format(test_results.meanSquaredError))\n",
        "print(\"MAE: {}\".format(test_results.meanAbsoluteError))\n",
        "print(\"R2: {}\".format(test_results.r2))"
      ],
      "metadata": {
        "colab": {
          "base_uri": "https://localhost:8080/"
        },
        "id": "2u-FbZyPFznS",
        "outputId": "cf2f47e6-b23c-4ab1-9824-f4f3c4238c27"
      },
      "execution_count": 1026,
      "outputs": [
        {
          "output_type": "stream",
          "name": "stdout",
          "text": [
            "RMSE: 12.7580866265093\n",
            "MSE: 162.76877436951546\n",
            "MAE: 8.39105653093462\n",
            "R2: 0.572427732318617\n"
          ]
        }
      ]
    }
  ]
}